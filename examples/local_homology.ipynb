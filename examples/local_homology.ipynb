{
 "cells": [
  {
   "cell_type": "markdown",
   "metadata": {},
   "source": [
    "# Local Homology\n",
    "\n",
    "In this tutorial we use tools from Topological Data Analysis (TDA) to study the local geometry of point clouds.\n",
    "\n",
    "If you are looking at a static version of this notebook and would like to run its contents, head over to [GitHub](https://github.com/giotto-ai/giotto-tda/blob/master/examples/local_homology.ipynb) and download the source.\n",
    "\n",
    "## See also\n",
    "\n",
    "- [Topological feature extraction using VietorisRipsPersistence and PersistenceEntropy](https://giotto-ai.github.io/gtda-docs/latest/notebooks/vietoris_rips_quickstart.html) for a quick introduction to general topological feature extraction in ``giotto-tda``.\n",
    "- [Local Homology NLP Use Cases: Unsupervised text disambiguation](https://giotto-ai.github.io/gtda-docs/latest/notebooks/local_hom_NLP_disambiguation.html), in which the ideas presented here are applied to natural language data!\n",
    "\n",
    "**License: AGPLv3**"
   ]
  },
  {
   "cell_type": "code",
   "execution_count": null,
   "metadata": {
    "scrolled": true
   },
   "outputs": [],
   "source": [
    "import numpy as np\n",
    "\n",
    "from gtda.plotting import plot_point_cloud\n",
    "from gtda.local_homology import KNeighborsLocalVietorisRips, RadiusLocalVietorisRips"
   ]
  },
  {
   "cell_type": "markdown",
   "metadata": {},
   "source": [
    "# Dimensionality\n",
    "\n",
    "## What is \"dimensionality\", and how can we formalize it? \n",
    "\n",
    "In this tutorial we will learn how to algorithmically distinguish between possible *local geometries* around data points. Consider, for instance, the local geometry around the red dot in the three shapes below:\n",
    "\n",
    "![locally_different](images/locally_different.png)\n",
    "\n",
    "## How?\n",
    "\n",
    "We propose an answer to this question based on the notion of **local homology**. We estimate the \"local dimension\" around each point by studying the topological properties of the data points' neighbourhoods. We start by studying three shapes which differ by their dimensions, namely the line, the plane, and the cube."
   ]
  },
  {
   "cell_type": "code",
   "execution_count": null,
   "metadata": {
    "scrolled": true,
    "tags": []
   },
   "outputs": [],
   "source": [
    "n = 10\n",
    "line_1d = np.linspace(0, 1, num=n, endpoint=False)\n",
    "\n",
    "line = np.c_[np.zeros((n, 2)), line_1d]\n",
    "plane = np.array([[0, y, z] for y in line_1d for z in line_1d])\n",
    "cube = np.array([[x, y, z] for x in line_1d for y in line_1d for z in line_1d])\n",
    "\n",
    "line_plane_cube = np.vstack((line, plane + [0.5, -0.5, 0], cube + [1, -0.5, 0]))\n",
    "plot_point_cloud(line_plane_cube)"
   ]
  },
  {
   "cell_type": "markdown",
   "metadata": {},
   "source": [
    "As explained in [Topological feature extraction using VietorisRipsPersistence and PersistenceEntropy](https://giotto-ai.github.io/gtda-docs/latest/notebooks/vietoris_rips_quickstart.html), \"persistence diagrams\" are a common and useful way to store information about the topology and geometry of data. Their content can be summarized and made interpretable even further by means of a variety of featurization methods. In this notebook, we use a modified version of the \"persistence entropy\" computed by the ``PersistenceEntropy`` transformer."
   ]
  },
  {
   "cell_type": "code",
   "execution_count": null,
   "metadata": {},
   "outputs": [],
   "source": [
    "from gtda.diagrams import PersistenceEntropy\n",
    "from sklearn.preprocessing import FunctionTransformer\n",
    "from gtda.pipeline import make_pipeline\n",
    "\n",
    "# Define the pipeline\n",
    "modified_persistence_entropy = make_pipeline(PersistenceEntropy(),\n",
    "                                             FunctionTransformer(func=lambda X: 2 ** X))"
   ]
  },
  {
   "cell_type": "markdown",
   "metadata": {},
   "source": [
    "## The method\n",
    "\n",
    "To compute and represent the dimensionality at each point we do the following:\n",
    "- For each point in the data set we find a vector $(d_1, \\dots, d_i)$ where $d_k$ correponds to $k$-dimensional features. The $i$-th dimensional feature correspond to the $i$-th Betti number of the \"coned-off\" local neighborhood around that point. More on this in \"How does it work?\" below!\n",
    "- We then plot the point cloud by colouring the points with one of the computed features.\n"
   ]
  },
  {
   "cell_type": "code",
   "execution_count": null,
   "metadata": {},
   "outputs": [],
   "source": [
    "# First initialize a local homology transformer. \n",
    "# The notion of neighborhood here is determined by the number of closest neighbors to consider\n",
    "lh_line = KNeighborsLocalVietorisRips(n_neighbors=(1, 7))\n",
    "\n",
    "# Apply the transformer to get the persistence diagrams\n",
    "diags = lh_line.fit_transform(line)"
   ]
  },
  {
   "cell_type": "code",
   "execution_count": null,
   "metadata": {},
   "outputs": [],
   "source": [
    "# Define a helper function for computing the local homology feature vectors and plotting\n",
    "def plot_coloured_cloud(local_hom, diags, point_cloud, dimension):\n",
    "    \"\"\"This is a custom plotting function, that plots the point cloud and colours \n",
    "     the points according to their persistence diagrams in the given dimension.\"\"\"\n",
    "    dim_index = np.argwhere(np.array(local_hom.homology_dimensions) == dimension)[0][0]\n",
    "    dim_vects = modified_persistence_entropy.fit_transform(diags)\n",
    "    return plot_point_cloud(point_cloud,\n",
    "                            plotly_params={\"trace\" : {\"marker\": {\"color\": dim_vects[:, dim_index],\n",
    "                                                                 \"size\": 6,\n",
    "                                                                 \"showscale\": True},\n",
    "                                                      \"text\": [f\"color: {i}\" for i in dim_vects[:, dim_index]]}})\n",
    "\n",
    "# Plot the results of local homology dimension 1:\n",
    "plot_coloured_cloud(lh_line, diags, line, 1)"
   ]
  },
  {
   "cell_type": "markdown",
   "metadata": {},
   "source": [
    "In the example above, for each non-boundary point, the algorithm only detects one local feature, in dimension 1!"
   ]
  },
  {
   "cell_type": "code",
   "execution_count": null,
   "metadata": {},
   "outputs": [],
   "source": [
    "# Plane coloured with two dimensional features.\n",
    "# The notion of neighborhood here is determined by radii.\n",
    "lh_plane = RadiusLocalVietorisRips(radii=(0.001, 0.3),\n",
    "                                   homology_dimensions=(1, 2, 3))\n",
    "\n",
    "# Apply the transformer\n",
    "diags = lh_plane.fit_transform(plane)\n",
    "\n",
    "# Plot the results of local homology dimension 2:\n",
    "plot_coloured_cloud(lh_plane, diags, plane, 2)"
   ]
  },
  {
   "cell_type": "markdown",
   "metadata": {},
   "source": [
    "In the two examples above we plotted the one dimensional features of the line, and the two dimensional features of the plane. Both are equal to 1, except at the borders/boundaries. "
   ]
  },
  {
   "cell_type": "markdown",
   "metadata": {},
   "source": [
    "## Non homogeneous example\n",
    "\n",
    "In the following example, we  consider a point cloud with varying dimensionality. We plot the three shapes next to each other. We encourage you to play around with the dimension parameter in the plotting function below, to compare the local structure of points in the line, plane and cube! One sees that one-dimensional features are observed in all three shapes, but two dimensional features only exist in the plane and three dimensional features only exist in the cube."
   ]
  },
  {
   "cell_type": "code",
   "execution_count": null,
   "metadata": {},
   "outputs": [],
   "source": [
    "# Here we set the `collapse_edges` parameter to True.\n",
    "# This allows the algorithm to run faster in higher homology dimensions.\n",
    "\n",
    "lh_line_plane_cube = RadiusLocalVietorisRips(radii=(0.01, 0.25),\n",
    "                                             homology_dimensions=(1, 2, 3),\n",
    "                                             collapse_edges=True)\n",
    "\n",
    "# Apply the transformer\n",
    "diags = lh_line_plane_cube.fit_transform(line_plane_cube)"
   ]
  },
  {
   "cell_type": "code",
   "execution_count": null,
   "metadata": {},
   "outputs": [],
   "source": [
    "# Plot the results of local homology dimension 1.\n",
    "# We encourage you to change the dimension parameter.\n",
    "plot_coloured_cloud(lh_line_plane_cube, diags, line_plane_cube, dimension=1)"
   ]
  },
  {
   "cell_type": "markdown",
   "metadata": {},
   "source": [
    "Our last example is inherently one dimensional, but the point cloud admits some interesting local structures."
   ]
  },
  {
   "cell_type": "code",
   "execution_count": null,
   "metadata": {},
   "outputs": [],
   "source": [
    "# First generate the point cloud\n",
    "line1 = [[x, 0, 0] for x in np.arange(-1, 1, 1/10)]\n",
    "line2 = [[0, y, 0] for y in np.arange(-1, 1, 1/10)]\n",
    "line3 = [[x, 1, 0] for x in np.arange(-1, 1, 1/10)]\n",
    "lines = np.array(line1 + line2 + line3)\n",
    "\n",
    "# Plot the point cloud\n",
    "plot_point_cloud(lines)"
   ]
  },
  {
   "cell_type": "markdown",
   "metadata": {},
   "source": [
    "Here, there are 4 different types of points:\n",
    "- 'edge points', with no local structure;\n",
    "- 'line points', which locally look like one-dimensional lines;\n",
    "- 'intersection points' which locally look like an X;\n",
    "- 'intersection points' which locally look like a T.\n",
    "\n",
    "The next block looks at the local homology features!"
   ]
  },
  {
   "cell_type": "code",
   "execution_count": null,
   "metadata": {},
   "outputs": [],
   "source": [
    "# Initialize the radius local homology transformer.\n",
    "# Here we set the `n_jobs` parameter to -1, to allow the algorithm to distribute across CPU cores!\n",
    "lh_lines = RadiusLocalVietorisRips(radii=(0.21, 0.31),\n",
    "                                   homology_dimensions=(0, 1),\n",
    "                                   n_jobs=-1)\n",
    "\n",
    "# Fit_transform\n",
    "diags = lh_lines.fit_transform(lines)\n",
    "\n",
    "# Plot the results of local homology dimension 1:\n",
    "plot_coloured_cloud(lh_lines, diags, np.array(lines), dimension=1)"
   ]
  },
  {
   "cell_type": "markdown",
   "metadata": {},
   "source": [
    "Notice that the one-dimensional feature counts the branches at a given point!\n",
    "\n",
    "We encourage you to change the values of the ``radii`` parameter. If you are curious of what these parameters are, please scroll down to the 'How does it work?' section."
   ]
  },
  {
   "cell_type": "markdown",
   "metadata": {},
   "source": [
    "# How does it work?\n",
    "\n",
    "As the mathematics behind this algorithm is quite involved, we give an explanation for one-dimensional examples. We also give a picture for the process in a 2-dimensional example.\n",
    "\n",
    "A central theme in topology is the study of properties that are invariant under deformation. A popular one-dimensional invariant is the number of 'loops' in the space. For a graph, the number of 'loops' is the number of cycles of that graph. In the case of connected graphs this is equal to $1 - \\chi(G)$, where $\\chi(G) = |V| - |E|$ is the *Euler characteristic* of the graph, and $|V|$ and $|E|$ are the number of vertices and edges respectively. \n",
    "\n",
    "Let us consider *trees*, which are a particular kind of graph. Although all trees have Euler characteristic equal to $1$, they can have very different local structure. By computing this local structure, we can discriminate between topologically distinct trees (or graphs, or higher-dimensional objects). In order to compute the local structure around each data point with standard algorithms for point clouds or dissimilarity matrices, such as the highly-optimised routines used by ``VietorisRipsPersistence``, we use a few tricks!\n",
    "\n",
    "The first step is to discard points that are far away from the point under consideration, since they do not affect the local geometry around it. We thus only keep points that are \"not far\" from our point, according to a certain criterion. For the ``RadiusLocalVietorisRips`` transformer, the criterion is that the distance from the chosen point should be less than or equal to the second entry in the ``radii`` pair. For the ``KNeighborsVietorisRips`` transformer, we only include the $k$-nearest neighbors to our chosen point, where $k$ is the second entry in the ``n_neighbors`` pair.\n",
    "\n",
    "The second step is the one making loops reflect dimensionality. From a line, how can we obtain a loop? We stick the two ends of the line together! This trick can be thought of as \"coning off\" the endpoints: adding an extra point and linking some points (the furthest points) to this extra point. In the case of the ``RadiusLocalVietorisRips`` transformer, our algorithm cones off the points that lie in between the first and second entries in ``radii``, as depicted below. For the ``KNeighborsVietorisRips`` transformer, we cone off in an analogous way according to the ``n_neighbors`` pair.\n",
    "\n",
    "So what is the Euler characteristic of the result of applying this procedure to an \"X shape\" graph, which could be the local neighborhood around a point in a larger graph? The result after \"coning off\" has two vertices (at the intersection points) and 4 edges, so the Euler characteristic is $-2$! This reflects the complexity at the point that we are considering. (Notice also that a loop has Euler characteristic $0$, and a triple intersection will give Euler characteristic $-1$.)\n",
    "\n",
    "As a 2-dimensional example of this procedure, consider a disk (again, you can think of this as the local neighbourhood around a chosen point). By coning off the outer part of this disk, we end up with a sphere. And a sphere's only non-trivial topological features are 2-dimensional."
   ]
  },
  {
   "cell_type": "markdown",
   "metadata": {},
   "source": [
    "![coning_off](images/coning_off.png)\n",
    "<div style=\"text-align: left\">\n",
    "   <p style=\"text-align: center;\">  Coning off a cross and a disk.</p>\n",
    "</div>"
   ]
  }
 ],
 "metadata": {
  "kernelspec": {
   "display_name": "Python 3 (ipykernel)",
   "language": "python",
   "name": "python3"
  },
  "language_info": {
   "codemirror_mode": {
    "name": "ipython",
    "version": 3
   },
   "file_extension": ".py",
   "mimetype": "text/x-python",
   "name": "python",
   "nbconvert_exporter": "python",
   "pygments_lexer": "ipython3",
   "version": "3.9.9"
  }
 },
 "nbformat": 4,
 "nbformat_minor": 4
}
