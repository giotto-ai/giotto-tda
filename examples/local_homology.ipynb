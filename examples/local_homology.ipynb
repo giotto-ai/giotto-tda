{
 "cells": [
  {
   "cell_type": "markdown",
   "metadata": {},
   "source": [
    "# Local Homology\n",
    "\n",
    "In this tutorial we use tools from Topological Data Analysis (TDA) to study the local geometry of point clouds. "
   ]
  },
  {
   "cell_type": "code",
   "execution_count": null,
   "metadata": {
    "scrolled": true
   },
   "outputs": [],
   "source": [
    "from gtda.plotting import plot_point_cloud\n",
    "from gtda.local_homology.simplicial import *\n",
    "\n",
    "import numpy as np"
   ]
  },
  {
   "cell_type": "markdown",
   "metadata": {},
   "source": [
    "# Dimensionality\n",
    "\n",
    "## What is 'dimensionality', and how can we formalize it? \n",
    "\n",
    "In this tutorial we will learn how to algorithmically distinguish the local geometry around the red dot in the three shapes below!\n",
    "\n",
    "![locally_different](images/locally_different.png)\n",
    "\n",
    "## How?\n",
    "\n",
    "We propose an answer to this question based on the notion of local homology. We estimate the 'local dimension' around each point by studying the topological properties of the data points' neighbourhoods. We start by studying three shapes which differ by there dimensions, namely the line, the plane, and the cube."
   ]
  },
  {
   "cell_type": "code",
   "execution_count": null,
   "metadata": {
    "scrolled": true
   },
   "outputs": [],
   "source": [
    "# First generate three point clouds, differing by their dimension.\n",
    "\n",
    "line = np.array([[0, 0, z] for z in np.arange(0, 1, 1/10)])\n",
    "plane = np.array([[0, y, z] for z in np.arange(0, 1, 1/10) for y in np.arange(0, 1, 1/10)])\n",
    "cube = np.array([[x, y, z] for x in np.arange(0, 1, 1/10) for y in np.arange(0, 1, 1/10) for z in np.arange(0, 1, 1/10)])\n",
    "\n",
    "line_plane_cube = np.append(np.append(line, [p+[0.5, -0.5, 0] for p in plane], axis=0), [p+[1, -0.5 ,0] for p in cube], axis=0)\n",
    "\n",
    "plot_point_cloud(line_plane_cube)"
   ]
  },
  {
   "cell_type": "code",
   "execution_count": null,
   "metadata": {},
   "outputs": [],
   "source": [
    "# A common object in TDA is a persistent diagrams. In order to interpret these,\n",
    "# we introduce some helper functions:\n",
    "from gtda.diagrams.features import PersistenceEntropy\n",
    "\n",
    "def modified_persistence_entropy(diags):\n",
    "    \"\"\" This is a custom vectorizer, similar to functions\n",
    "    in gtda.diagrams.features. Inputs a sequence of persistence\n",
    "    diagrams, and outputs a sequence of vectors\"\"\"\n",
    "    return 2**PersistenceEntropy().fit_transform(diags)\n",
    "\n",
    "def plot_coloured_cloud(local_hom, diags, point_cloud, dimension):\n",
    "    \"\"\" This is a custom plotting function, that plots the point cloud and colours \n",
    "     the points according to their persistence diagrams in the given dimension\"\"\"\n",
    "    dim_index = np.argwhere(np.array(local_hom.homology_dimensions)==dimension)[0][0]\n",
    "    dim_vects = modified_persistence_entropy(diags) #Modified this to not store diags\n",
    "    return plot_point_cloud(point_cloud,\n",
    "                            plotly_params={\"trace\" : {\"marker\": {\"color\":dim_vects[:, dim_index],\n",
    "                                                                 \"size\":6,\n",
    "                                                                 \"showscale\":True}, \n",
    "                                                     \"text\":['color: '+str(i) for i in dim_vects[:, dim_index]]}\n",
    "                                          })\n"
   ]
  },
  {
   "cell_type": "markdown",
   "metadata": {},
   "source": [
    "## The method\n",
    "\n",
    "To compute and represent the dimensionality at each point we do the following:\n",
    "- To each point in the data set we find a vector $(d_1, \\dots, d_i)$ where $d_1$ correponds to 1-dimensional features, $\\dots$, and $d_i$ to  $i$-dimensional features. The $i$-th dimensional feature correspond to the $i$-th Betti number of the coned off local neighborhood around that point. More on this in the 'How does it work' section below!\n",
    "- We then plot the point cloud by colouring the points with one of the computed features.\n"
   ]
  },
  {
   "cell_type": "code",
   "execution_count": null,
   "metadata": {
    "scrolled": false
   },
   "outputs": [],
   "source": [
    "# First initialize a local homology transformer. \n",
    "# The notion of neighborhood here is determined by the number of closest neighbors to consider\n",
    "lh_line = KNeighborsLocalVietorisRips(n_neighbors=(1, 7))\n",
    "\n",
    "# fit_tranform the transformer to get the persistence diagrams\n",
    "diags = lh_line.fit_transform(line)\n",
    "\n",
    "# plot the results of local homology dimension 1:\n",
    "plot_coloured_cloud(lh_line, diags, line, 1)"
   ]
  },
  {
   "cell_type": "markdown",
   "metadata": {},
   "source": [
    "In the example above, for each non-boundary point, the algorithm only detects one local feature, in dimension 1!"
   ]
  },
  {
   "cell_type": "code",
   "execution_count": null,
   "metadata": {},
   "outputs": [],
   "source": [
    "# plane coloured with two dimensional features\n",
    "# the notion of neighborhood here is determined by radii.\n",
    "lh_plane = RadiusLocalVietorisRips(radii=(0.001,0.3), \n",
    "                     homology_dimensions=(1, 2, 3))\n",
    "\n",
    "# Fit_tranform the transformer\n",
    "diags = lh_plane.fit_transform(plane)\n",
    "\n",
    "# Plot the results of local homology dimension 2:\n",
    "plot_coloured_cloud(lh_plane, diags, plane, 2)"
   ]
  },
  {
   "cell_type": "markdown",
   "metadata": {},
   "source": [
    "In the two examples above we plotted the one dimensional features of the line, and the two dimensional features of the plane. Both are equal to 1, except at the borders/boundaries. "
   ]
  },
  {
   "cell_type": "markdown",
   "metadata": {},
   "source": [
    "## Non homogeneous example\n",
    "\n",
    "In the following example, we  consider a point cloud with varying dimensionality. We plot the three shapes next to each other. We encourage you to play around with the dimension parameter in the plotting function below, to compare the local structure of points in the line, plane and cube! One sees that one dimensional features are observed in all three shapes, but two dimensional features only exist in the plane and three dimensional features only exist in the cube."
   ]
  },
  {
   "cell_type": "code",
   "execution_count": null,
   "metadata": {},
   "outputs": [],
   "source": [
    "# Here that we set the collapse_edges parameter to True,\n",
    "# which allows the algorithm to be parralellized and run faster!\n",
    "\n",
    "lh_line_plane_cube = RadiusLocalVietorisRips(radii=(0.01, 0.25), \n",
    "                     homology_dimensions=(1, 2, 3), collapse_edges=True)\n",
    "\n",
    "\n",
    "\n",
    "# Fit_tranform the transformer\n",
    "diags = lh_line_plane_cube.fit_transform(line_plane_cube)"
   ]
  },
  {
   "cell_type": "code",
   "execution_count": null,
   "metadata": {},
   "outputs": [],
   "source": [
    "# Plot the results of local homology dimension 1. We encourage you to change the dimension parameter.\n",
    "plot_coloured_cloud(lh_line_plane_cube, diags, line_plane_cube, dimension=1)"
   ]
  },
  {
   "cell_type": "code",
   "execution_count": null,
   "metadata": {},
   "outputs": [],
   "source": [
    "# First generate the point cloud\n",
    "line1=[[x, 0, 0] for x in np.arange(-1,1, 1/10)]\n",
    "line2=[[0, y, 0] for y in np.arange(-1,1, 1/10)]\n",
    "line3=[[x, 1, 0] for x in np.arange(-1,1, 1/10)]\n",
    "lines=np.array(line1+line2+line3)\n",
    "\n",
    "# Plot the point cloud\n",
    "plot_point_cloud(lines)"
   ]
  },
  {
   "cell_type": "markdown",
   "metadata": {},
   "source": [
    "Our last example is inherently one dimensional, but the point cloud admits some interesting local structures, there are 4 different types of points:\n",
    "- The 'edge points', with no local structure\n",
    "- The 'line points' which locally look like one dimensinoal lines.\n",
    "- The 'intersection points', which locally looks like an X.\n",
    "- The 'intersection points', which locally looks like a T.\n",
    "\n",
    "The next block looks at the local homology features!"
   ]
  },
  {
   "cell_type": "code",
   "execution_count": null,
   "metadata": {},
   "outputs": [],
   "source": [
    "%%time\n",
    "# Initialize the radius local homology transformer\n",
    "# Here we set the n_jobs parameter to -1, to allow the algorithm to distribute and run faster!\n",
    "lh_lines = RadiusLocalVietorisRips(radii=(0.21, 0.31), \n",
    "                     homology_dimensions=(0, 1), n_jobs=-1)\n",
    "\n",
    "# fit_tranform\n",
    "diags = lh_lines.fit_transform(lines)\n",
    "\n",
    "# Plot the results of local homology dimension 1:\n",
    "plot_coloured_cloud(lh_lines, diags, np.array(lines), dimension=1)"
   ]
  },
  {
   "cell_type": "markdown",
   "metadata": {},
   "source": [
    "Notice that the one-dimensional feature counts the branches at a given point!\n",
    "\n",
    "We encourage you to change the values of the radii parameter. If you are curious of what these parameters are, please scroll down to the 'How idoes it work' section."
   ]
  },
  {
   "cell_type": "markdown",
   "metadata": {},
   "source": [
    "# How does it work?\n",
    "\n",
    "As the mathematics behind this algorithm is quite involved, we give an explanation for one-dimensional examples. We also give a picture for the process for a 2 dimensional example.\n",
    "\n",
    "A central theme in Topology is the study of properties that are invariant under deformation. A popular one-dimensional invariant is the number of 'loops' in the space. For a graph, the number of 'loops' is the number of cycles of that graph. In the case of connected graphs this is equal to $1-\\chi(G)$, where $\\chi(G)=|V|-|E|$ is the Euler characteristic of the graph, and $|V|$ and $|E|$ are the number of vertices and edges respectively. \n",
    "\n",
    "However, although all trees have Euler characteristic 1, they can admit very different local behaviour. The Euler characteristic alone will not be enough, we therefore have to do a trick:\n",
    "\n",
    "The first step is to discard points that are far away, since they do not affect the local geometry around a point. We thus keep points that are closer than the second radius (either a distance from the point for the RadiusLocalVietrosiRips transformer, or the closest neighbors for the KNeighborsVietorisRips transformer).\n",
    "\n",
    "The second step is the one making loops reflect dimensionality. From a line, how can we obtain a loop? We stick the two ends of the line together! This trick can be thought of as 'coning' off the endpoints: adding an extra point and linking some points (the furthest points) to this extra point. Our algorithm cones off the points that lie in between the first and second radii, as depicted below.\n",
    "\n",
    "So what are the Euler characteristic of the resulting graph below?\n",
    "It one has two vertices (at the intersection points) and 4 edges, so Euler characteristic -2! This relects the complexity at the point that we are considering! (Notice also that a loop has Euler characteristic 0, and a triple intersection will give Euler characteristic -1)\n",
    "\n",
    "We also added a 2-dimensional example: the disk. By coning off the furthest point, we end up with a sphere! Which only has nontrivial 2 dimensional features."
   ]
  },
  {
   "cell_type": "markdown",
   "metadata": {},
   "source": [
    "![coning_off](images/coning_off.png)\n",
    "<div style=\"text-align: left\">\n",
    "   <p style=\"text-align: center;\">  Coning off a cross and a disk.</p>\n",
    "</div>"
   ]
  },
  {
   "cell_type": "code",
   "execution_count": null,
   "metadata": {},
   "outputs": [],
   "source": []
  }
 ],
 "metadata": {
  "kernelspec": {
   "display_name": "Python 3",
   "language": "python",
   "name": "python3"
  },
  "language_info": {
   "codemirror_mode": {
    "name": "ipython",
    "version": 3
   },
   "file_extension": ".py",
   "mimetype": "text/x-python",
   "name": "python",
   "nbconvert_exporter": "python",
   "pygments_lexer": "ipython3",
   "version": "3.9.4"
  }
 },
 "nbformat": 4,
 "nbformat_minor": 4
}
